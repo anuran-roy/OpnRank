{
 "cells": [
  {
   "cell_type": "markdown",
   "metadata": {},
   "source": [
    "# Content Parser"
   ]
  },
  {
   "cell_type": "markdown",
   "metadata": {},
   "source": [
    "We all know that content is the Main Man in SEO. But what is often overlooked is how to make our Main Man the King. A good piece of content must be paired with equally good SEO friendly layout to produce outstanding results.\n",
    "\n",
    "But to inspect content, the first step is to parse it properly, in a format that looks like human-readable HTML format. Based on this, we can further inspect for patterns and  best practices. \n",
    "\n",
    "The Content Parser parses a URl in a human-readable format, and saves it in a file. "
   ]
  },
  {
   "cell_type": "markdown",
   "metadata": {},
   "source": [
    "## Note: If you have hotlink protection enabled for your site, this won't work. In that case, you have to copy the source code manually. "
   ]
  },
  {
   "cell_type": "code",
   "execution_count": 1,
   "metadata": {},
   "outputs": [
    {
     "ename": "SyntaxError",
     "evalue": "EOL while scanning string literal (<ipython-input-1-fb938cab28a7>, line 5)",
     "output_type": "error",
     "traceback": [
      "\u001b[0;36m  File \u001b[0;32m\"<ipython-input-1-fb938cab28a7>\"\u001b[0;36m, line \u001b[0;32m5\u001b[0m\n\u001b[0;31m    encoding=input(\"Enter Encoding Format. NOTE: This is very important. If you don't know what your site encoding is, try UTF-8.\") \")\u001b[0m\n\u001b[0m                                                                                                                                      ^\u001b[0m\n\u001b[0;31mSyntaxError\u001b[0m\u001b[0;31m:\u001b[0m EOL while scanning string literal\n"
     ]
    }
   ],
   "source": [
    "import urllib.request as request\n",
    "import urllib.parse as parse\n",
    "\n",
    "url=input(\"Enter a URL:\")\n",
    "encoding=input(\"Enter Encoding Format. NOTE: This is very important. If you don't know what your site encoding is, try UTF-8.\") \")\n",
    "resp=request.urlopen(url)\n",
    "\n",
    "data=resp.read()\n",
    "decoded_data=data.decode(encoding) #Most (if not all) websites use UTF-8\n",
    "print(\"Data decoding done.\")"
   ]
  },
  {
   "cell_type": "code",
   "execution_count": null,
   "metadata": {},
   "outputs": [],
   "source": [
    "print(\"################################################################################\")"
   ]
  },
  {
   "cell_type": "markdown",
   "metadata": {},
   "source": [
    "### The data has been parsed into human readable form, if you see the output \"Data decoding done.\". Now we need to write the parsed data into a file, for use by the other modules. \n",
    "\n",
    "We will use a text file to output the document . "
   ]
  },
  {
   "cell_type": "code",
   "execution_count": null,
   "metadata": {},
   "outputs": [],
   "source": [
    "fname=input(\"Enter the filename for output file, along with the extension. Recommended extension is .txt\")\n",
    "\n",
    "print()\n",
    "filew=open(fname,\"w\")\n",
    "filew.writelines(decoded_data)\n",
    "filew.close()\n",
    "\n",
    "print(\"File created, and data has been written to file successfully!\")"
   ]
  },
  {
   "cell_type": "markdown",
   "metadata": {},
   "source": [
    "### If you have got the message \n",
    "\n",
    "File created, and data has been written to file successfully!\n",
    "\n",
    "### then you should be all set for the SEO analysis stage. "
   ]
  }
 ],
 "metadata": {
  "kernelspec": {
   "display_name": "Python 3",
   "language": "python",
   "name": "python3"
  },
  "language_info": {
   "codemirror_mode": {
    "name": "ipython",
    "version": 3
   },
   "file_extension": ".py",
   "mimetype": "text/x-python",
   "name": "python",
   "nbconvert_exporter": "python",
   "pygments_lexer": "ipython3",
   "version": "3.8.6"
  }
 },
 "nbformat": 4,
 "nbformat_minor": 4
}
