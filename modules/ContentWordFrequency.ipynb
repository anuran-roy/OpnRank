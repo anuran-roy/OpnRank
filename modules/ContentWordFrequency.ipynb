{
 "cells": [
  {
   "cell_type": "code",
   "execution_count": 125,
   "metadata": {},
   "outputs": [],
   "source": [
    "import pandas as pd\n",
    "import matplotlib.pyplot as plt\n",
    "import re\n",
    "import seaborn as sns\n",
    "\n",
    "#Template for operation\n",
    "\n",
    "#'''data_path='ipl.csv'\n",
    "\n",
    "#data=pd.read_csv(data_path)\t\t\n",
    "#print(data.describe())\n",
    "\n",
    "#col=data.columns\n",
    "\n",
    "#print(col)\n",
    "\n",
    "#plt.show()'''\n",
    "\n",
    "#'''df = pd.DataFrame({\n",
    "#    'name':['john','mary','peter','jeff','bill','lisa','jose'],\n",
    "#    'age':[23,78,22,19,45,33,20],\n",
    "#    'gender':['M','F','M','M','M','F','M'],\n",
    "#    'state':['california','dc','california','dc','california','texas','texas'],\n",
    "#    'num_children':[2,0,0,3,2,1,4],\n",
    "#    'num_pets':[5,1,0,5,2,2,3]\n",
    "#})\n",
    "\n",
    "#ax = plt.gca()\n",
    "\n",
    "#df.plot(kind='line',x='name',y='num_children',ax=ax)\n",
    "#df.plot(kind='line',x='name',y='num_pets', color='red', ax=ax)\n",
    "\n",
    "#plt.show()'''"
   ]
  },
  {
   "cell_type": "code",
   "execution_count": 126,
   "metadata": {},
   "outputs": [],
   "source": [
    "def deEmojify(text):\n",
    "    regrex_pattern = re.compile(pattern = \"[\"\n",
    "        u\"\\U0001F600-\\U0001F64F\"  # emoticons\n",
    "        u\"\\U0001F300-\\U0001F5FF\"  # symbols & pictographs\n",
    "        u\"\\U0001F680-\\U0001F6FF\"  # transport & map symbols\n",
    "        u\"\\U0001F1E0-\\U0001F1FF\"  # flags (iOS)\n",
    "                           \"]+\", flags = re.UNICODE)\n",
    "    return regrex_pattern.sub(r'',text)"
   ]
  },
  {
   "cell_type": "code",
   "execution_count": 127,
   "metadata": {},
   "outputs": [
    {
     "name": "stdout",
     "output_type": "stream",
     "text": [
      "Enter filename:hello2.txt\n"
     ]
    }
   ],
   "source": [
    "fname=input(\"Enter filename:\")"
   ]
  },
  {
   "cell_type": "code",
   "execution_count": 128,
   "metadata": {},
   "outputs": [],
   "source": [
    "#fread0=open(fname,\"r\")\n",
    "\n",
    "#with fread0 as file0:     \n",
    "#    for line0 in file0: \n",
    "\n",
    "#            for word0 in line0.split():\n",
    "#                word00=deEmojify(word0)\n",
    "                #print(word)"
   ]
  },
  {
   "cell_type": "code",
   "execution_count": 129,
   "metadata": {},
   "outputs": [],
   "source": [
    "fread=open(fname,\"r\")\n",
    "\n",
    "#data=fread.read() \n",
    "\n",
    "datadict={} #Dictionary for dataframe\n",
    "xlabels=[] #List for xlabels"
   ]
  },
  {
   "cell_type": "code",
   "execution_count": 139,
   "metadata": {},
   "outputs": [],
   "source": [
    "cwname=open(\"lists/google-10000-english-master/google-10000-english.txt\",\"r\")\n",
    "cwlist=[]\n",
    "with cwname as wfile:\n",
    "    for wline in wfile:\n",
    "        for cword in wline.split():\n",
    "            cword2=cword.lower()\n",
    "            cwlist.append(cword2)\n",
    "\n",
    "#print(cwlist)            "
   ]
  },
  {
   "cell_type": "code",
   "execution_count": 131,
   "metadata": {
    "scrolled": false
   },
   "outputs": [],
   "source": [
    "symbols='!@#$%^&*()_+-={}|[]\\:\";<>?,./'\n",
    "with fread as file:     \n",
    "    for line in file: \n",
    "            linew=line.split()\n",
    "            for word in linew:\n",
    "                worde=deEmojify(word)\n",
    "                wordf=worde.lower()\n",
    "                word2=wordf.strip(symbols)\n",
    "                #print(word)\n",
    "                if word2 in datadict:\n",
    "                    datadict[word2]+=1\n",
    "                elif word2 not in cwlist:\n",
    "                    datadict[word2]=1\n",
    "                    xlabels.append(word2)      \n",
    "            \n",
    "#print(datadict)\n",
    "#print(\"\\n\",xlabels)\n",
    "#print(\"\\n\",len(a))\n",
    "#print(\"\\n\")\n",
    "#print(len(wa))"
   ]
  },
  {
   "cell_type": "code",
   "execution_count": 133,
   "metadata": {},
   "outputs": [],
   "source": [
    "#print(\"The original dictionary is : \" + str(test_dict)) \n",
    "  \n",
    "# using items() to get all items  \n",
    "# lambda function is passed in key to perform sort by key  \n",
    "# passing 2nd element of items() \n",
    "#res = {key: val for key, val in sorted(datadict.items(), key = lambda ele: ele[1])} \n",
    "  \n",
    "# printing result  \n",
    "#print(\"Result dictionary sorted by values : \" + str(res))  \n",
    "  \n",
    "# using items() to get all items  \n",
    "# lambda function is passed in key to perform sort by key  \n",
    "# passing 2nd element of items() \n",
    "# adding \"reversed = True\" for reversed order \n",
    "res = {key: val for key, val in sorted(datadict.items(), key = lambda ele: ele[1], reverse = True)} \n",
    "#dct=str(res)  \n",
    "# printing result  \n",
    "#print(res)\n",
    "#print(\"Result dictionary sorted by values ( in reversed order ) : \" + dct)"
   ]
  },
  {
   "cell_type": "markdown",
   "metadata": {},
   "source": [
    "# Graphing to suggest possible keywords\n",
    "\n",
    "In this phase, we obtain the most frequent non-common words in our text, which are possible candidates for being set as the article keyword. In the code below, we visualize the 10 most common keywords."
   ]
  },
  {
   "cell_type": "code",
   "execution_count": 134,
   "metadata": {},
   "outputs": [],
   "source": [
    "df=pd.DataFrame.from_dict([res])\n",
    "df.describe()\n",
    "col=df.columns\n",
    "df=df.transpose()\n",
    "headd=df.head(8)"
   ]
  },
  {
   "cell_type": "code",
   "execution_count": 135,
   "metadata": {
    "scrolled": false
   },
   "outputs": [
    {
     "name": "stderr",
     "output_type": "stream",
     "text": [
      "/home/anuran/.local/lib/python3.8/site-packages/pandas/plotting/_matplotlib/core.py:1192: UserWarning: FixedFormatter should only be used together with FixedLocator\n",
      "  ax.set_xticklabels(xticklabels)\n"
     ]
    },
    {
     "data": {
      "text/plain": [
       "[<matplotlib.lines.Line2D at 0x7f86812eec70>]"
      ]
     },
     "execution_count": 135,
     "metadata": {},
     "output_type": "execute_result"
    },
    {
     "data": {
      "image/png": "[encoded data removed]",
      "text/plain": [
       "<Figure size 432x288 with 1 Axes>"
      ]
     },
     "metadata": {
      "needs_background": "light"
     },
     "output_type": "display_data"
    }
   ],
   "source": [
    "headd.plot(subplots = False, grid = True)\n",
    "plt.plot(headd)\n",
    "#plt.figure(figsize=(len(xlabels),100))"
   ]
  },
  {
   "cell_type": "code",
   "execution_count": 138,
   "metadata": {
    "scrolled": false
   },
   "outputs": [
    {
     "data": {
      "text/plain": [
       "<AxesSubplot:>"
      ]
     },
     "execution_count": 138,
     "metadata": {},
     "output_type": "execute_result"
    },
    {
     "data": {
      "image/png": "[encoded data removed]",
      "text/plain": [
       "<Figure size 720x576 with 1 Axes>"
      ]
     },
     "metadata": {},
     "output_type": "display_data"
    }
   ],
   "source": [
    "sns.set(rc={'figure.figsize':(10,8)})\n",
    "sns.lineplot(data=df.head(10))"
   ]
  },
  {
   "cell_type": "code",
   "execution_count": null,
   "metadata": {},
   "outputs": [],
   "source": []
  }
 ],
 "metadata": {
  "kernelspec": {
   "display_name": "Python 3",
   "language": "python",
   "name": "python3"
  },
  "language_info": {
   "codemirror_mode": {
    "name": "ipython",
    "version": 3
   },
   "file_extension": ".py",
   "mimetype": "text/x-python",
   "name": "python",
   "nbconvert_exporter": "python",
   "pygments_lexer": "ipython3",
   "version": "3.8.6"
  },
  "widgets": {
   "application/vnd.jupyter.widget-state+json": {
    "state": {},
    "version_major": 1,
    "version_minor": 0
   }
  }
 },
 "nbformat": 4,
 "nbformat_minor": 4
}
