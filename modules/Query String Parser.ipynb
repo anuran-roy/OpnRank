{
 "cells": [
  {
   "cell_type": "markdown",
   "metadata": {},
   "source": [
    "# This module parses the URL and checks for queries and other features related to SEO "
   ]
  },
  {
   "cell_type": "markdown",
   "metadata": {},
   "source": [
    "## Query parser"
   ]
  },
  {
   "cell_type": "markdown",
   "metadata": {},
   "source": [
    "An aspect of SEO is that whether the page URL contains the keywords in either the page ID, or any query. The Query parser addresses this issue"
   ]
  },
  {
   "cell_type": "code",
   "execution_count": null,
   "metadata": {},
   "outputs": [],
   "source": []
  },
  {
   "cell_type": "code",
   "execution_count": null,
   "metadata": {},
   "outputs": [],
   "source": [
    "from urllib import parse\n",
    "\n",
    "url=input(\"Enter URL:\")\n",
    "details=parse.urlparse(url)\n",
    "\n",
    "qs=details[4]\n",
    "qs='&' + qs\n",
    "l=len(qs)\n",
    "\n",
    "word=''\n",
    "query_key=''\n",
    "query_value=''\n",
    "query={}\n",
    "k=0\n",
    "j=0\n",
    "\n",
    "for i in range(l):\n",
    "    if qs[i]=='&'and k<l-1:\n",
    "        k=i+1\n",
    "        query_key=''\n",
    "        if k<l:\n",
    "            while qs[k] != '=' and k<l:\n",
    "                if qs[k]=='+':\n",
    "                    query_value=query_value + ' '\n",
    "                else:\n",
    "                    query_key=query_key + qs[k]\n",
    "\n",
    "                if k<l-1:\n",
    "                    k=k+1\n",
    "                else:\n",
    "                    break\n",
    "                \n",
    "            \n",
    "    if qs[i]=='=' and k<l-1:\n",
    "        j=i+1\n",
    "        query_value=''\n",
    "        if j<l:\n",
    "            while qs[j] != '&' and j<l:\n",
    "                if qs[j]=='+':\n",
    "                    query_value=query_value + ' '\n",
    "                else:    \n",
    "                    query_value=query_value + qs[j]\n",
    "\n",
    "                if j<l-1:\n",
    "                    j=j+1\n",
    "                else:\n",
    "                    break\n",
    "            \n",
    "    \n",
    "    query[query_key]=query_value    \n",
    "            \n",
    "print(\"Queries=\")\n",
    "print(query)\n",
    "\n",
    "\n",
    "\n"
   ]
  }
 ],
 "metadata": {
  "kernelspec": {
   "display_name": "Python 3",
   "language": "python",
   "name": "python3"
  },
  "language_info": {
   "codemirror_mode": {
    "name": "ipython",
    "version": 3
   },
   "file_extension": ".py",
   "mimetype": "text/x-python",
   "name": "python",
   "nbconvert_exporter": "python",
   "pygments_lexer": "ipython3",
   "version": "3.8.6"
  }
 },
 "nbformat": 4,
 "nbformat_minor": 4
}
