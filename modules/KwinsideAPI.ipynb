{
 "cells": [
  {
   "cell_type": "markdown",
   "metadata": {},
   "source": [
    "# Kwinside API"
   ]
  },
  {
   "cell_type": "markdown",
   "metadata": {},
   "source": [
    "## Data receiving part"
   ]
  },
  {
   "cell_type": "code",
   "execution_count": 23,
   "metadata": {},
   "outputs": [
    {
     "name": "stdout",
     "output_type": "stream",
     "text": [
      "Enter file name to read keywords from:kw.txt\n",
      "\n",
      "\n",
      "Total Keywords found: 2\n",
      "\n",
      "----------------------\n",
      "\n",
      "\n",
      "anime\n",
      "assassin's creed\n",
      "\n",
      "\n",
      "----------------------\n",
      "\n",
      "\n",
      "WARNING: Use your search quota judiciously!\n",
      "Enter number of keywords to search for. If you choose all, type ALL:ALL\n",
      "\n",
      "\n",
      "Total Keywords chosen: 2\n",
      "\n",
      "----------------------\n",
      "\n",
      "\n",
      "anime\n",
      "assassin's creed\n",
      "\n",
      "\n",
      "----------------------\n",
      "\n",
      "\n",
      "Enter language. Available languages on Kwinside are: en, it, es, fr, ru, de. :en\n"
     ]
    }
   ],
   "source": [
    "import urllib\n",
    "import requests\n",
    "\n",
    "keyword_file=input(\"Enter file name to read keywords from:\")\n",
    "fopen=open(keyword_file,\"r\")\n",
    "\n",
    "data=fopen.readlines()\n",
    "read_data=[]\n",
    "for datal in data:\n",
    "    datal=datal.replace(\"\\n\",\"\")\n",
    "    read_data.append(datal)\n",
    "    \n",
    "total=len(read_data)\n",
    "    \n",
    "print(\"\\n\\nTotal Keywords found:\",total)\n",
    "print(\"\\n----------------------\\n\\n\")\n",
    "\n",
    "for i in range(total):\n",
    "    print(read_data[i])  \n",
    "\n",
    "print(\"\\n\\n----------------------\\n\\n\")    \n",
    "print(\"WARNING: Use your search quota judiciously!\")\n",
    "\n",
    "num=int(total+1)\n",
    "while int(num)>int(total):\n",
    "    num=input(\"Enter number of keywords to search for. If you choose all, type ALL:\")\n",
    "    \n",
    "    if num=='ALL':\n",
    "        num=int(total)\n",
    "    \n",
    "    if int(num)>int(total):\n",
    "        print(\"\\n\\nERROR! There aren't as many keywords that have been read from the file! Try again!\\n\\n\")\n",
    "\n",
    "   \n",
    "chosen_data=read_data[0:num]    \n",
    "\n",
    "print(\"\\n\\nTotal Keywords chosen:\",num)\n",
    "print(\"\\n----------------------\\n\\n\")\n",
    "\n",
    "for i in range(num):\n",
    "    print(chosen_data[i])\n",
    "    \n",
    "print(\"\\n\\n----------------------\\n\\n\")    \n",
    "\n",
    "API_KEY=\"\" #Insert API Key here\n",
    "\n",
    "lang=\"LOL\"\n",
    "resp=True\n",
    "while(resp):\n",
    "    lang=input(\"Enter language. Available languages on Kwinside are: en, it, es, fr, ru, de. :\")\n",
    "\n",
    "    if lang=='en':\n",
    "        resp=False\n",
    "    elif lang=='es':\n",
    "        resp=False\n",
    "    elif lang=='it':\n",
    "        resp=False\n",
    "    elif lang=='fr':\n",
    "        resp=False\n",
    "    elif lang=='ru':\n",
    "        resp=False\n",
    "    elif lang=='de':\n",
    "        resp=False\n",
    "    else:\n",
    "        print(\"\\n\\nInvalid  Option! Try again!\")\n",
    "\n",
    "resp_data=[]\n",
    "input_resp=True #This parameter checks whether the user inputs variable values for offset and pagination or different.\n",
    "for i in range(num):\n",
    "    if input_resp==True:\n",
    "        size=input(\"Enter size of response received:\")\n",
    "        offset=input(\"Enter offset of response received:\")\n",
    "        resp=bool(input(\"Do you want to keep changing offset and/or size values again? (True/False)\"))\n",
    "    \n",
    "    URL=\"https://kwinside.com/api/v1/keywords/?se=\" + lang + \"&kw=\" + chosen_data[i] + \"&size=\" + size + \"&offset=\" + offset + \"&key=\" + API_KEY\"\n",
    "    resp=requests.get(URL)\n",
    "    \n",
    "    resp_data.append(resp)\n",
    "    \n",
    "print(\"\\n\\n---------------\\n\\n\")   \n",
    "print(\"Data received:\")"
   ]
  },
  {
   "cell_type": "markdown",
   "metadata": {},
   "source": [
    "## Plotting part"
   ]
  },
  {
   "cell_type": "code",
   "execution_count": null,
   "metadata": {},
   "outputs": [],
   "source": [
    "import matplotlib.pyplot as plt"
   ]
  }
 ],
 "metadata": {
  "kernelspec": {
   "display_name": "Python 3",
   "language": "python",
   "name": "python3"
  },
  "language_info": {
   "codemirror_mode": {
    "name": "ipython",
    "version": 3
   },
   "file_extension": ".py",
   "mimetype": "text/x-python",
   "name": "python",
   "nbconvert_exporter": "python",
   "pygments_lexer": "ipython3",
   "version": "3.8.6"
  }
 },
 "nbformat": 4,
 "nbformat_minor": 4
}
