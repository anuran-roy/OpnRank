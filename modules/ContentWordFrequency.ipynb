{
 "cells": [
  {
   "cell_type": "code",
   "execution_count": 1,
   "metadata": {},
   "outputs": [
    {
     "data": {
      "text/plain": [
       "\"df = pd.DataFrame({\\n    'name':['john','mary','peter','jeff','bill','lisa','jose'],\\n    'age':[23,78,22,19,45,33,20],\\n    'gender':['M','F','M','M','M','F','M'],\\n    'state':['california','dc','california','dc','california','texas','texas'],\\n    'num_children':[2,0,0,3,2,1,4],\\n    'num_pets':[5,1,0,5,2,2,3]\\n})\\n\\nax = plt.gca()\\n\\ndf.plot(kind='line',x='name',y='num_children',ax=ax)\\ndf.plot(kind='line',x='name',y='num_pets', color='red', ax=ax)\\n\\nplt.show()\""
      ]
     },
     "execution_count": 1,
     "metadata": {},
     "output_type": "execute_result"
    }
   ],
   "source": [
    "import pandas as pd\n",
    "import matplotlib.pyplot as plt\n",
    "\n",
    "#Template for operation\n",
    "\n",
    "'''data_path='ipl.csv'\n",
    "\n",
    "data=pd.read_csv(data_path)\t\t\n",
    "print(data.describe())\n",
    "\n",
    "col=data.columns\n",
    "\n",
    "print(col)\n",
    "\n",
    "plt.show()'''\n",
    "\n",
    "'''df = pd.DataFrame({\n",
    "    'name':['john','mary','peter','jeff','bill','lisa','jose'],\n",
    "    'age':[23,78,22,19,45,33,20],\n",
    "    'gender':['M','F','M','M','M','F','M'],\n",
    "    'state':['california','dc','california','dc','california','texas','texas'],\n",
    "    'num_children':[2,0,0,3,2,1,4],\n",
    "    'num_pets':[5,1,0,5,2,2,3]\n",
    "})\n",
    "\n",
    "ax = plt.gca()\n",
    "\n",
    "df.plot(kind='line',x='name',y='num_children',ax=ax)\n",
    "df.plot(kind='line',x='name',y='num_pets', color='red', ax=ax)\n",
    "\n",
    "plt.show()'''"
   ]
  },
  {
   "cell_type": "code",
   "execution_count": 26,
   "metadata": {},
   "outputs": [
    {
     "name": "stdout",
     "output_type": "stream",
     "text": [
      "Enter filename:hello.txt\n"
     ]
    }
   ],
   "source": [
    "fname=input(\"Enter filename:\")\n",
    "\n",
    "fread=open(fname,\"r\")\n",
    "\n",
    "#data=fread.read() \n",
    "\n",
    "datadict={} #Dictionary for dataframe\n",
    "xlabels=[] #List for xlabels"
   ]
  },
  {
   "cell_type": "code",
   "execution_count": 27,
   "metadata": {},
   "outputs": [
    {
     "name": "stdout",
     "output_type": "stream",
     "text": [
      "{'when': 3, 'the': 10, 'clouds': 1, 'covered': 1, 'shine,': 1, 'a': 2, 'downpour': 1, 'made': 1, 'my': 8, 'streets': 1, 'aquatic.': 1, 'timber': 1, 'was': 1, 'ready,': 1, 'waters': 1, 'were': 1, 'mine,': 1, 'but': 1, 'i': 10, 'had': 2, 'lost': 3, 'captain': 1, 'of': 5, 'titanic.': 1, 'now': 2, 'don’t': 2, 'shatter': 1, 'any': 2, 'windows,': 1, 'no': 1, 'bedsheets': 1, 'worn': 1, 'around': 1, 'neck,': 1, 'kill': 1, 'imaginary': 1, 'foes,': 1, 'have': 2, 'that': 3, 'superhero': 1, 'from': 1, 'deck.': 1, 'aimed': 1, 'far,': 1, 'shadow': 1, 'held': 1, 'hand': 1, 'and': 2, 'wind': 1, 'pushed': 1, 'me': 2, 'out': 2, 'black.': 1, 'realized': 1, 'reached': 1, 'distant': 1, 'land': 1, 'way': 1, 'coming': 1, 'back.': 1, 'ran': 1, 'pages': 1, 'childhood': 1, 'diary-': 1, 'it’s': 1, 'time': 1, 'for': 2, 'to': 2, 'open': 1, 'eyes,': 1, 'move': 1, 'world': 1, 'which': 1, 'once': 1, 'thought': 1, 'dreary,': 1, 'this': 1, 'is': 1, 'process,': 1, 'quintessene': 1, 'our': 1, 'lives.': 1}\n",
      "\n",
      " ['when', 'the', 'clouds', 'covered', 'shine,', 'a', 'downpour', 'made', 'my', 'streets', 'aquatic.', 'timber', 'was', 'ready,', 'waters', 'were', 'mine,', 'but', 'i', 'had', 'lost', 'captain', 'of', 'titanic.', 'now', 'don’t', 'shatter', 'any', 'windows,', 'no', 'bedsheets', 'worn', 'around', 'neck,', 'kill', 'imaginary', 'foes,', 'have', 'that', 'superhero', 'from', 'deck.', 'aimed', 'far,', 'shadow', 'held', 'hand', 'and', 'wind', 'pushed', 'me', 'out', 'black.', 'realized', 'reached', 'distant', 'land', 'way', 'coming', 'back.', 'ran', 'pages', 'childhood', 'diary-', 'it’s', 'time', 'for', 'to', 'open', 'eyes,', 'move', 'world', 'which', 'once', 'thought', 'dreary,', 'this', 'is', 'process,', 'quintessene', 'our', 'lives.']\n"
     ]
    }
   ],
   "source": [
    "with fread as file:     \n",
    "    for line in file: \n",
    "\n",
    "            for word in line.split():\n",
    "                word2=word.lower()\n",
    "                \n",
    "                #print(word)\n",
    "                if word2 in datadict:\n",
    "                    datadict[word2]+=1\n",
    "                else:\n",
    "                    datadict[word2]=1\n",
    "                    xlabels.append(word2)      \n",
    "            \n",
    "print(datadict)\n",
    "print(\"\\n\",xlabels)            "
   ]
  },
  {
   "cell_type": "code",
   "execution_count": 33,
   "metadata": {},
   "outputs": [],
   "source": [
    "df=pd.DataFrame.from_dict([datadict])\n",
    "df.describe()\n",
    "col=df.columns\n",
    "df=df.transpose()\n",
    "headd=df.head(10)"
   ]
  },
  {
   "cell_type": "code",
   "execution_count": 34,
   "metadata": {
    "scrolled": false
   },
   "outputs": [
    {
     "name": "stderr",
     "output_type": "stream",
     "text": [
      "/home/anuran/.local/lib/python3.8/site-packages/pandas/plotting/_matplotlib/core.py:1192: UserWarning: FixedFormatter should only be used together with FixedLocator\n",
      "  ax.set_xticklabels(xticklabels)\n"
     ]
    },
    {
     "data": {
      "text/plain": [
       "[<matplotlib.lines.Line2D at 0x7fa3d057bd30>]"
      ]
     },
     "execution_count": 34,
     "metadata": {},
     "output_type": "execute_result"
    },
    {
     "data": {
      "image/png": "[encoded data removed]",
      "text/plain": [
       "<Figure size 432x288 with 1 Axes>"
      ]
     },
     "metadata": {
      "needs_background": "light"
     },
     "output_type": "display_data"
    }
   ],
   "source": [
    "headd.plot(subplots = False, grid = True)\n",
    "plt.plot(headd)"
   ]
  },
  {
   "cell_type": "code",
   "execution_count": null,
   "metadata": {},
   "outputs": [],
   "source": []
  }
 ],
 "metadata": {
  "kernelspec": {
   "display_name": "Python 3",
   "language": "python",
   "name": "python3"
  },
  "language_info": {
   "codemirror_mode": {
    "name": "ipython",
    "version": 3
   },
   "file_extension": ".py",
   "mimetype": "text/x-python",
   "name": "python",
   "nbconvert_exporter": "python",
   "pygments_lexer": "ipython3",
   "version": "3.8.6"
  }
 },
 "nbformat": 4,
 "nbformat_minor": 4
}
